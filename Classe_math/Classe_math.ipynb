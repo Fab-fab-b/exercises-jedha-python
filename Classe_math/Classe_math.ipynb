{
 "cells": [
  {
   "cell_type": "code",
   "execution_count": 72,
   "metadata": {},
   "outputs": [
    {
     "name": "stdout",
     "output_type": "stream",
     "text": [
      "The square of 9 is 3.0\n",
      "The average of 10, 30, 20 and 10 is 17.5\n",
      "pair\n",
      "impair\n",
      "The sum of 10, 30, 10, 40 and 20 is 110\n"
     ]
    }
   ],
   "source": [
    "class Math ():\n",
    "    def square(self,number):\n",
    "      number = number ** (1/2) \n",
    "      return number\n",
    "    \n",
    "    def average(self, number):\n",
    "       if not number:\n",
    "          return 0\n",
    "       return sum(number) /len(number)\n",
    "    \n",
    "    def parity(self,number):\n",
    "       if number % 2 == 0:\n",
    "          return \"pair\"\n",
    "       else:\n",
    "          return \"impair\"\n",
    "       \n",
    "    def sum(self,number):\n",
    "       return sum(number)  \n",
    "    \n",
    "    \n",
    "    \n",
    "    print(\"The square of 9 is {}\".format(Math().square(9)))\n",
    "    print(\"The average of 10, 30, 20 and 10 is {}\".format(Math().average([10,30,20,10])))\n",
    "    print(Math().parity(4))\n",
    "    print(Math().parity(11))\n",
    "    print(\"The sum of 10, 30, 10, 40 and 20 is {}\".format(Math().sum([10,30,10,40,20])))\n"
   ]
  }
 ],
 "metadata": {
  "kernelspec": {
   "display_name": "Python 3",
   "language": "python",
   "name": "python3"
  },
  "language_info": {
   "codemirror_mode": {
    "name": "ipython",
    "version": 3
   },
   "file_extension": ".py",
   "mimetype": "text/x-python",
   "name": "python",
   "nbconvert_exporter": "python",
   "pygments_lexer": "ipython3",
   "version": "3.12.4"
  }
 },
 "nbformat": 4,
 "nbformat_minor": 2
}
